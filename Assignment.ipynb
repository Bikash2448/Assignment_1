{
 "cells": [
  {
   "cell_type": "markdown",
   "id": "de0baab3-1bc6-4283-a76f-cbcbb0c205c7",
   "metadata": {},
   "source": [
    "ASSIGNMENT 1"
   ]
  },
  {
   "cell_type": "markdown",
   "id": "1669a23e-d376-47d2-87ba-6b49812f0d7c",
   "metadata": {},
   "source": [
    "Q1. Explain with an example each when to use a for loop and a while loop."
   ]
  },
  {
   "cell_type": "code",
   "execution_count": 1,
   "id": "adea1904-6736-4837-894d-359b79d26caf",
   "metadata": {},
   "outputs": [
    {
     "name": "stdout",
     "output_type": "stream",
     "text": [
      "0\n",
      "1\n",
      "2\n",
      "3\n",
      "4\n",
      "5\n",
      "6\n",
      "7\n"
     ]
    }
   ],
   "source": [
    "#  For loop use when we know the no of iterations\n",
    "\n",
    "for i in range(8):\n",
    "    print(i)\n",
    "\n"
   ]
  },
  {
   "cell_type": "code",
   "execution_count": 2,
   "id": "19382080-69ad-4139-a36d-0980b94f407d",
   "metadata": {},
   "outputs": [
    {
     "name": "stdin",
     "output_type": "stream",
     "text": [
      "Enter The Number That You Want To Multiple Table :  4\n"
     ]
    },
    {
     "name": "stdout",
     "output_type": "stream",
     "text": [
      "4 * 1 =  4\n",
      "4 * 2 =  8\n",
      "4 * 3 =  12\n",
      "4 * 4 =  16\n",
      "4 * 5 =  20\n",
      "4 * 6 =  24\n",
      "4 * 7 =  28\n",
      "4 * 8 =  32\n",
      "4 * 9 =  36\n",
      "4 * 10 =  40\n"
     ]
    }
   ],
   "source": [
    "# While loop use when we need to keep iterating until a certain condition is met.\n",
    "\n",
    "n=int(input(\"Enter The Number That You Want To Multiple Table : \"))\n",
    "count = 1\n",
    "while 10>=count:\n",
    "    print(n, \"*\", count,\"= \", n*count)\n",
    "    count=count+1"
   ]
  },
  {
   "cell_type": "markdown",
   "id": "efa91ce9-1261-4494-b10b-da76ed83c00a",
   "metadata": {},
   "source": [
    "Q2.  Write a python program to print the sum and product of the first 10 natural numbers using for \n",
    "and while loop"
   ]
  },
  {
   "cell_type": "code",
   "execution_count": 14,
   "id": "4cb23ea1-a5dd-420a-a2c7-b1f9b4182135",
   "metadata": {},
   "outputs": [
    {
     "name": "stdout",
     "output_type": "stream",
     "text": [
      "1\n",
      "2\n",
      "3\n",
      "4\n",
      "5\n",
      "6\n",
      "7\n",
      "8\n",
      "9\n",
      "10\n",
      "55\n",
      "3628800\n"
     ]
    }
   ],
   "source": [
    "# Sum of First 10 Natural Numbers(1-10) using for loop\n",
    "sum = 0\n",
    "product = 1\n",
    "for i in range(1,11):\n",
    "    sum=sum+i\n",
    "    product=product*i\n",
    "    print(i)\n",
    "print(sum)\n",
    "print(product)"
   ]
  },
  {
   "cell_type": "code",
   "execution_count": 15,
   "id": "7fd5c9e2-362d-4e5c-87a5-3a0162618cec",
   "metadata": {},
   "outputs": [
    {
     "name": "stdout",
     "output_type": "stream",
     "text": [
      "55\n",
      "3628800\n"
     ]
    }
   ],
   "source": [
    "# Sum of First 10 Natural Numbers(1-10) using while loop\n",
    "count=1\n",
    "sum=0\n",
    "product=1\n",
    "while 10>=count:\n",
    "    sum=sum+count\n",
    "    product=product*count\n",
    "    \n",
    "    count=count+1\n",
    "print(sum)   \n",
    "print(product)"
   ]
  },
  {
   "cell_type": "markdown",
   "id": "124f759e-443f-4e86-a565-73f52102705b",
   "metadata": {},
   "source": [
    "Q3. Create a python program to compute the electricity bill for a household.\n",
    "\n",
    "The per-unit charges in rupees are as follows: For the first 100 units, the user will be charged Rs. 4.5 per \n",
    "unit, for the next 100 units, the user will be charged Rs. 6 per unit, and for the next 100 units, the user will \n",
    "be charged Rs. 10 per unit, After 300 units and above the user will be charged Rs. 20 per unit.\n",
    "\n",
    "\n",
    "You are required to take the units of electricity consumed in a month from the user as input.\n",
    "\n",
    "\n",
    "Your program must pass this test case: when the unit of electricity consumed by the user in a month is \n",
    "310, the total electricity bill should be 2250"
   ]
  },
  {
   "cell_type": "code",
   "execution_count": 9,
   "id": "16c1cf40-dba8-4ca5-9761-7df4da1bbf8f",
   "metadata": {},
   "outputs": [
    {
     "name": "stdin",
     "output_type": "stream",
     "text": [
      "Put the units of electricity consumed in a Month:  310\n"
     ]
    },
    {
     "name": "stdout",
     "output_type": "stream",
     "text": [
      "Your electricity bill for  310  units :  2250.0\n"
     ]
    }
   ],
   "source": [
    "n= int(input(\"Put the units of electricity consumed in a Month: \"))\n",
    "# units = 0\n",
    "    \n",
    "if n<=100:\n",
    "    print(\"Your electricity bill for \" ,n,\" units : \",n*4.5)\n",
    "    \n",
    "elif (200+1)>n>100:\n",
    "#     for first 100 units bill\n",
    "    fir_100 = 100*4.5\n",
    "    above_units_bill = (n-100)*6\n",
    "    total = fir_100 + above_units_bill\n",
    "    \n",
    "    print(\"Your electricity bill for \" ,n,\" units : \", total)\n",
    "    \n",
    "elif 300>=n>200:\n",
    "    fir_100 = 100*4.5\n",
    "    then_100 =100*6\n",
    "    above_units_bill = (n-200)*10\n",
    "    total = fir_100 + above_units_bill+then_100\n",
    "    \n",
    "    print(\"Your electricity bill for \" ,n,\" units : \", total)\n",
    "    \n",
    "else:\n",
    "    above_300=(n-300)*20\n",
    "    total= (100*4.5)+(100*6)+(100*10)+above_300\n",
    "    \n",
    "    print(\"Your electricity bill for \" ,n,\" units : \", total)\n",
    "    \n"
   ]
  },
  {
   "cell_type": "markdown",
   "id": "7cf4a4ec-8000-4c0c-9b5a-85c7e448cea1",
   "metadata": {},
   "source": [
    "Q4. Create a list of numbers from 1 to 100. Use for loop and while loop to calculate the cube of each \n",
    "number and if the cube of that number is divisible by 4 or 5 then append that number in a list and print \n",
    "that list"
   ]
  },
  {
   "cell_type": "code",
   "execution_count": 11,
   "id": "b6a00f35-811b-41f6-be33-4d1799e7c177",
   "metadata": {},
   "outputs": [
    {
     "name": "stdout",
     "output_type": "stream",
     "text": [
      "[4, 5, 8, 10, 12, 15, 16, 20, 24, 25, 28, 30, 32, 35, 36, 40, 44, 45, 48, 50, 52, 55, 56, 60, 64, 65, 68, 70, 72, 75, 76, 80, 84, 85, 88, 90, 92, 95, 96]\n"
     ]
    }
   ],
   "source": [
    "# First i create Empty list then Append the number that is Divisible by 4 or 5 using for loop\n",
    "L1 = []\n",
    "for i in range(1,100):\n",
    "    if i%4==0 or i%5==0:\n",
    "        L1.append(i)\n",
    "        \n",
    "print(L1)"
   ]
  },
  {
   "cell_type": "code",
   "execution_count": 12,
   "id": "36507cfe-9731-4b08-a461-f6ff3d543a8d",
   "metadata": {},
   "outputs": [
    {
     "name": "stdout",
     "output_type": "stream",
     "text": [
      "[4, 5, 8, 10, 12, 15, 16, 20, 24, 25, 28, 30, 32, 35, 36, 40, 44, 45, 48, 50, 52, 55, 56, 60, 64, 65, 68, 70, 72, 75, 76, 80, 84, 85, 88, 90, 92, 95, 96, 100]\n"
     ]
    }
   ],
   "source": [
    "# using while loop\n",
    "L1=[]\n",
    "count=1\n",
    "last_number = 100\n",
    "while count<=100:\n",
    "    if count%4==0 or count%5==0:\n",
    "        L1.append(count)\n",
    "    count=count+1\n",
    "    \n",
    "print(L1)"
   ]
  },
  {
   "cell_type": "markdown",
   "id": "fdd9f1a8-cf5d-48da-b640-61e636a3c68c",
   "metadata": {},
   "source": [
    "Q5.  Write a program to filter count vowels in the below-given string.\n",
    "\n",
    "string = \"I want to become a data scientist\""
   ]
  },
  {
   "cell_type": "code",
   "execution_count": 20,
   "id": "770813c2-7153-46cc-a337-d4deaa0a430d",
   "metadata": {},
   "outputs": [
    {
     "name": "stdout",
     "output_type": "stream",
     "text": [
      "33\n",
      "i\n",
      "a\n",
      "o\n",
      "e\n",
      "o\n",
      "e\n",
      "a\n",
      "a\n",
      "a\n",
      "i\n",
      "e\n",
      "i\n",
      "Total no of vowels : 12\n"
     ]
    }
   ],
   "source": [
    "a = \"I want to become a data scientist\"\n",
    "stri = a.lower()\n",
    "print(len_stri)\n",
    "count = 0\n",
    "for i in stri:\n",
    "    if i== \"a\" or i== \"e\" or i== \"i\" or i== \"o\" or i== \"u\":\n",
    "        # count++\n",
    "        print(i)\n",
    "        count= count+1\n",
    "        \n",
    "print(\"Total no of vowels :\", count)"
   ]
  },
  {
   "cell_type": "code",
   "execution_count": null,
   "id": "f001822e-7208-487e-af18-6d524f6685e2",
   "metadata": {},
   "outputs": [],
   "source": []
  }
 ],
 "metadata": {
  "kernelspec": {
   "display_name": "Python 3 (ipykernel)",
   "language": "python",
   "name": "python3"
  },
  "language_info": {
   "codemirror_mode": {
    "name": "ipython",
    "version": 3
   },
   "file_extension": ".py",
   "mimetype": "text/x-python",
   "name": "python",
   "nbconvert_exporter": "python",
   "pygments_lexer": "ipython3",
   "version": "3.10.8"
  }
 },
 "nbformat": 4,
 "nbformat_minor": 5
}
